{
 "cells": [
  {
   "cell_type": "code",
   "execution_count": 2,
   "metadata": {},
   "outputs": [
    {
     "name": "stdout",
     "output_type": "stream",
     "text": [
      "[240, 128, 128, 128, 128, 128, 128, 10]\n"
     ]
    },
    {
     "ename": "NameError",
     "evalue": "name 'neuron_initialization' is not defined",
     "output_type": "error",
     "traceback": [
      "\u001b[0;31m---------------------------------------------------------------------------\u001b[0m",
      "\u001b[0;31mNameError\u001b[0m                                 Traceback (most recent call last)",
      "Cell \u001b[0;32mIn[2], line 18\u001b[0m\n\u001b[1;32m     15\u001b[0m architecture \u001b[38;5;241m=\u001b[39m [train_data\u001b[38;5;241m.\u001b[39mshape[\u001b[38;5;241m1\u001b[39m], \u001b[38;5;241m128\u001b[39m, \u001b[38;5;241m128\u001b[39m, \u001b[38;5;241m128\u001b[39m, \u001b[38;5;241m128\u001b[39m, \u001b[38;5;241m128\u001b[39m, \u001b[38;5;241m128\u001b[39m, num_classes]\n\u001b[1;32m     17\u001b[0m \u001b[38;5;28mprint\u001b[39m(architecture)\n\u001b[0;32m---> 18\u001b[0m params \u001b[38;5;241m=\u001b[39m neuron_initialization(architecture)\n\u001b[1;32m     20\u001b[0m param_trained, history \u001b[38;5;241m=\u001b[39m classification_train(params, cross_entropy_loss, train_data, train_labels, epochs\u001b[38;5;241m=\u001b[39m\u001b[38;5;241m1000\u001b[39m, batch_size \u001b[38;5;241m=\u001b[39m \u001b[38;5;241m50\u001b[39m)\n\u001b[1;32m     22\u001b[0m accuracy(param_trained, test_data, test_labels)\n",
      "\u001b[0;31mNameError\u001b[0m: name 'neuron_initialization' is not defined"
     ]
    }
   ],
   "source": [
    "import preprocessing\n",
    "\n",
    "dataset_path = \"../data/mfeat-pix\"\n",
    "data = preprocessing.load_data(dataset_path)\n",
    "\n",
    "num_classes = 10\n",
    "samples_per_class = 200\n",
    "train_samples_per_class = 100\n",
    "test_samples_per_class = 100\n",
    "\n",
    "train_data, test_data = preprocessing.split_data(data, num_classes, samples_per_class, train_samples_per_class)\n",
    "train_labels, test_labels = preprocessing.create_labels(num_classes, train_samples_per_class, test_samples_per_class)\n",
    "\n",
    "architecture = [train_data.shape[1], 128, 128, 128, 128, 128, 128, num_classes]\n",
    "\n",
    "print(architecture)\n",
    "params = neuron_initialization(architecture)\n",
    "\n",
    "param_trained, history = classification_train(params, cross_entropy_loss, train_data, train_labels, epochs=1000, batch_size = 50)\n",
    "\n",
    "accuracy(param_trained, test_data, test_labels)\n"
   ]
  }
 ],
 "metadata": {
  "kernelspec": {
   "display_name": "base",
   "language": "python",
   "name": "python3"
  },
  "language_info": {
   "codemirror_mode": {
    "name": "ipython",
    "version": 3
   },
   "file_extension": ".py",
   "mimetype": "text/x-python",
   "name": "python",
   "nbconvert_exporter": "python",
   "pygments_lexer": "ipython3",
   "version": "3.12.7"
  }
 },
 "nbformat": 4,
 "nbformat_minor": 2
}
