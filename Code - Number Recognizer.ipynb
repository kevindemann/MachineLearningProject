{
 "cells": [
  {
   "cell_type": "code",
   "execution_count": 123,
   "id": "74bdc295",
   "metadata": {},
   "outputs": [
    {
     "data": {
      "text/plain": [
       "<matplotlib.image.AxesImage at 0x147f13315610>"
      ]
     },
     "execution_count": 123,
     "metadata": {},
     "output_type": "execute_result"
    },
    {
     "data": {
      "image/png": "[encoded data removed]",
      "text/plain": [
       "<Figure size 640x480 with 1 Axes>"
      ]
     },
     "metadata": {},
     "output_type": "display_data"
    }
   ],
   "source": [
    "import matplotlib.pyplot as plt\n",
    "import numpy as np\n",
    "import idx2numpy\n",
    "\n",
    "training_images_data ='Data/train-images.idx3-ubyte'\n",
    "training_labels_data = 'Data/train-labels.idx1-ubyte'\n",
    "test_images_data = 'Data/t10k-images.idx3-ubyte'\n",
    "test_labels_data = 'Data/t10k-labels.idx1-ubyte'\n",
    "\n",
    "\n",
    "def read(x): return idx2numpy.convert_from_file(x)\n",
    "\n",
    "training_images = read(training_images_data)\n",
    "training_labels = read(training_labels_data)\n",
    "test_images = read(test_images_data)\n",
    "test_labels = read(test_labels_data)\n",
    "\n",
    "plt.imshow(training_images[1], cmap=plt.cm.binary)"
   ]
  },
  {
   "cell_type": "markdown",
   "id": "3904c6e9",
   "metadata": {},
   "source": [
    "## KNN for MNIST data set 60000"
   ]
  },
  {
   "cell_type": "code",
   "execution_count": 124,
   "id": "5e2ec3b1",
   "metadata": {},
   "outputs": [
    {
     "name": "stdout",
     "output_type": "stream",
     "text": [
      "At image: 1000\n",
      "At image: 2000\n",
      "At image: 3000\n",
      "At image: 4000\n",
      "At image: 5000\n",
      "KNN - no preprocessing: 0.9062\n"
     ]
    }
   ],
   "source": [
    "def PrepData(data):\n",
    "    return_data = []\n",
    "    \n",
    "    for image in data:\n",
    "        image_flatten = image.flatten()\n",
    "        image = image_flatten/max(image_flatten)\n",
    "        return_data.append(image)\n",
    "        \n",
    "    return np.array(return_data)\n",
    "\n",
    "def EuclidianDistance(x1, x2):\n",
    "    distance = np.sqrt(np.sum((x1 - x2)**2))\n",
    "    return distance\n",
    "\n",
    "def KnnPredict(images_train, labels_train, images_test, k):\n",
    "    predictions = []\n",
    "    count = 0\n",
    "    \n",
    "    for test_point in images_test:\n",
    "        \n",
    "        # Calculating distance from test_point to all images\n",
    "        distances = [EuclidianDistance(test_point, train_point) for train_point in images_train]\n",
    "        \n",
    "        # Getting the 'k' closest images\n",
    "        indice_NN = np.argsort(distances)[:k]\n",
    "        \n",
    "        # Getting label\n",
    "        label_NN = labels_train[indice_NN]\n",
    "        \n",
    "        # Majority voting of 'k' predictions\n",
    "        unique, counts = np.unique(label_NN, return_counts = True)\n",
    "        best_prediction = unique[np.argmax(counts)]\n",
    "        \n",
    "        # Append prediction for image\n",
    "        predictions.append(best_prediction)\n",
    "        \n",
    "        count += 1\n",
    "        if count % int(0.2*len(images_test)) ==0:\n",
    "            print(\"At image: \" + str(count))\n",
    "            \n",
    "    return np.array(predictions)\n",
    "\n",
    "lim  = 5000\n",
    "\n",
    "X_train = PrepData(training_images.copy()[:lim])\n",
    "X_test = PrepData(test_images.copy()[:lim])\n",
    "\n",
    "Y_test = test_labels[:lim]\n",
    "Y_train = training_labels[:lim]\n",
    "\n",
    "predicted_test = KnnPredict(X_train, Y_train, X_test, k=5)\n",
    "\n",
    "print(\"KNN - no preprocessing:\", sum(Y_test == predicted_test)/lim)"
   ]
  },
  {
   "cell_type": "markdown",
   "id": "1891a3ce",
   "metadata": {},
   "source": [
    "## Simple ANN for MNIST data set"
   ]
  },
  {
   "cell_type": "code",
   "execution_count": 125,
   "id": "9007c652",
   "metadata": {},
   "outputs": [
    {
     "name": "stderr",
     "output_type": "stream",
     "text": [
      "/Software/users/modules/9/software/anaconda3/2024.02/lib/python3.11/site-packages/sklearn/preprocessing/_encoders.py:868: FutureWarning: `sparse` was renamed to `sparse_output` in version 1.2 and will be removed in 1.4. `sparse_output` is ignored unless you leave `sparse` to its default value.\n",
      "  warnings.warn(\n",
      "/Software/users/modules/9/software/anaconda3/2024.02/lib/python3.11/site-packages/sklearn/preprocessing/_encoders.py:868: FutureWarning: `sparse` was renamed to `sparse_output` in version 1.2 and will be removed in 1.4. `sparse_output` is ignored unless you leave `sparse` to its default value.\n",
      "  warnings.warn(\n"
     ]
    },
    {
     "name": "stdout",
     "output_type": "stream",
     "text": [
      "Epoch 0, Loss: 0.24950662854643696\n",
      "Epoch 100, Loss: 0.08960072479200419\n",
      "Epoch 200, Loss: 0.08630893923297041\n",
      "Epoch 300, Loss: 0.07286437162639342\n",
      "Epoch 400, Loss: 0.05913109902532594\n",
      "Epoch 500, Loss: 0.04947219564950922\n",
      "Epoch 600, Loss: 0.04234884866764499\n",
      "Epoch 700, Loss: 0.03687599440576328\n",
      "Epoch 800, Loss: 0.03267711138723616\n",
      "Epoch 900, Loss: 0.029383042657001198\n",
      "Test Accuracy: 82.54%\n"
     ]
    }
   ],
   "source": [
    "from sklearn.preprocessing import OneHotEncoder\n",
    "\n",
    "# Activation functions and derivatives\n",
    "def sigmoid(z):\n",
    "    return 1 / (1 + np.exp(-z))\n",
    "\n",
    "def sigmoid_derivative(z):\n",
    "    return sigmoid(z) * (1 - sigmoid(z))\n",
    "\n",
    "# Initialize weights and biases\n",
    "def initialize_weights(input_size, hidden_size, output_size):\n",
    "    np.random.seed(42)\n",
    "    W1 = np.random.randn(input_size, hidden_size) * 0.01\n",
    "    b1 = np.zeros((1, hidden_size))\n",
    "    W2 = np.random.randn(hidden_size, output_size) * 0.01\n",
    "    b2 = np.zeros((1, output_size))\n",
    "    return W1, b1, W2, b2\n",
    "\n",
    "# Forward pass\n",
    "def forward_propagation(X, W1, b1, W2, b2):\n",
    "    Z1 = np.dot(X, W1) + b1\n",
    "    A1 = sigmoid(Z1)\n",
    "    Z2 = np.dot(A1, W2) + b2\n",
    "    A2 = sigmoid(Z2)\n",
    "    cache = (Z1, A1, Z2, A2)\n",
    "    return A2, cache\n",
    "\n",
    "# Backward pass\n",
    "def backward_propagation(X, y, cache, W1, W2):\n",
    "    Z1, A1, Z2, A2 = cache\n",
    "    m = X.shape[0]\n",
    "\n",
    "    dZ2 = A2 - y\n",
    "    dW2 = np.dot(A1.T, dZ2) / m\n",
    "    db2 = np.sum(dZ2, axis=0, keepdims=True) / m\n",
    "\n",
    "    dZ1 = np.dot(dZ2, W2.T) * sigmoid_derivative(Z1)\n",
    "    dW1 = np.dot(X.T, dZ1) / m\n",
    "    db1 = np.sum(dZ1, axis=0, keepdims=True) / m\n",
    "\n",
    "    return dW1, db1, dW2, db2\n",
    "\n",
    "def train(X_train, y_train, input_size, hidden_size, output_size, learning_rate, epochs):\n",
    "    # Initialize weights and biases\n",
    "    W1, b1, W2, b2 = initialize_weights(input_size, hidden_size, output_size)\n",
    "\n",
    "    for epoch in range(epochs):\n",
    "        # Forward propagation\n",
    "        A2, cache = forward_propagation(X_train, W1, b1, W2, b2)\n",
    "\n",
    "        # Compute loss (mean squared error)\n",
    "        loss = np.mean((A2 - y_train) ** 2)\n",
    "\n",
    "        # Backward propagation\n",
    "        dW1, db1, dW2, db2 = backward_propagation(X_train, y_train, cache, W1, W2)\n",
    "\n",
    "        # Update weights and biases\n",
    "        W1 -= learning_rate * dW1\n",
    "        b1 -= learning_rate * db1\n",
    "        W2 -= learning_rate * dW2\n",
    "        b2 -= learning_rate * db2\n",
    "\n",
    "        # Print loss every 100 epochs\n",
    "        if epoch % 100 == 0:\n",
    "            print(f\"Epoch {epoch}, Loss: {loss}\")\n",
    "\n",
    "    return W1, b1, W2, b2\n",
    "\n",
    "def predict(X, W1, b1, W2, b2):\n",
    "    A2, _ = forward_propagation(X, W1, b1, W2, b2)\n",
    "    return np.argmax(A2, axis=1)\n",
    "\n",
    "def accuracy(y_true, y_pred):\n",
    "    y_true_labels = np.argmax(y_true, axis=1)\n",
    "    return np.mean(y_true_labels == y_pred)\n",
    "\n",
    "\n",
    "lim  = 5000\n",
    "\n",
    "X_train = PrepData(training_images.copy()[:lim])\n",
    "X_test = PrepData(test_images.copy()[:lim])\n",
    "\n",
    "y_test = np.array(test_labels[:lim])\n",
    "y_train = np.array(training_labels[:lim])\n",
    "\n",
    "# One-hot encode y_train (if not already done)\n",
    "encoder = OneHotEncoder(sparse=False)\n",
    "Y_train = encoder.fit_transform(y_train.reshape(-1, 1))\n",
    "Y_test = encoder.fit_transform(y_test.reshape(-1, 1))\n",
    "\n",
    "# Define hyperparameters\n",
    "input_size = 784      # 28x28 flattened images\n",
    "hidden_size = 64      # Number of neurons in the hidden layer\n",
    "output_size = 10      # 10 classes for digits 0-9\n",
    "learning_rate = 0.1\n",
    "epochs = 1000\n",
    "\n",
    "# Train the neural network\n",
    "W1, b1, W2, b2 = train(X_train, Y_train, input_size, hidden_size, output_size, learning_rate, epochs)\n",
    "\n",
    "# Predict on test data\n",
    "y_pred = predict(X_test, W1, b1, W2, b2)\n",
    "\n",
    "# Evaluate accuracy\n",
    "test_accuracy = accuracy(Y_test, y_pred)\n",
    "print(f\"Test Accuracy: {test_accuracy * 100:.2f}%\")"
   ]
  },
  {
   "cell_type": "markdown",
   "id": "b962aca3",
   "metadata": {},
   "source": [
    "## PCA test and result \n",
    "- PCA destroys important information on the image"
   ]
  },
  {
   "cell_type": "code",
   "execution_count": 126,
   "id": "fc1ea065",
   "metadata": {},
   "outputs": [
    {
     "data": {
      "text/plain": [
       "<matplotlib.image.AxesImage at 0x147f13295610>"
      ]
     },
     "execution_count": 126,
     "metadata": {},
     "output_type": "execute_result"
    },
    {
     "data": {
      "image/png": "[encoded data removed]",
      "text/plain": [
       "<Figure size 640x480 with 1 Axes>"
      ]
     },
     "metadata": {},
     "output_type": "display_data"
    }
   ],
   "source": [
    "# Example data\n",
    "X = training_images[10]/255\n",
    "\n",
    "# Apply PCA keeping 3 highest variance\n",
    "pca = decomposition.PCA(n_components = 4)\n",
    "\n",
    "X_reduced = pca.fit_transform(X)\n",
    "\n",
    "# Inverse transform to reconstruct\n",
    "X_reconstructed = pca.inverse_transform(X_reduced)\n",
    "\n",
    "# Cleaning (Define lines better)\n",
    "X_reconstructed[X_reconstructed < 0.2] = 0\n",
    "X_reconstructed[X_reconstructed > 0.8] = 1\n",
    "\n",
    "# Image reconstructed data\n",
    "plt.imshow(X_reconstructed, cmap=plt.cm.binary)\n",
    "\n",
    "#print(\"Original Data:\\n\", X)\n",
    "#print(\"Reduced Data:\\n\", X_reduced)\n",
    "#print(\"Reconstructed Data:\\n\", X_reconstructed)"
   ]
  },
  {
   "cell_type": "markdown",
   "id": "12fef22a",
   "metadata": {},
   "source": [
    "## Trying KNN with PCA "
   ]
  },
  {
   "cell_type": "code",
   "execution_count": 95,
   "id": "45215e17",
   "metadata": {},
   "outputs": [
    {
     "name": "stdout",
     "output_type": "stream",
     "text": [
      "At image: 400\n",
      "At image: 800\n",
      "At image: 1200\n",
      "At image: 1600\n",
      "At image: 2000\n",
      "KNN - no preprocessing: 0.3985\n"
     ]
    }
   ],
   "source": [
    "lim  = 2000\n",
    "\n",
    "# Apply PCA keeping 3 highest variance\n",
    "pca = decomposition.PCA(n_components = 3)\n",
    "\n",
    "# PCA reducing for first 3 axes\n",
    "X_reduced = [pca.fit_transform(images) for images in training_images.copy()[:lim]]\n",
    "\n",
    "# Inverse transform to reconstruct\n",
    "X_reconstructed = pca.inverse_transform(X_reduced)\n",
    "\n",
    "# Cleaning (Define lines better)\n",
    "X_reconstructed[X_reconstructed < 0.2] = 0\n",
    "X_reconstructed[X_reconstructed > 0.8] = 1\n",
    "\n",
    "# Creating split\n",
    "X_train = PrepData(X_reconstructed)\n",
    "X_test = PrepData(test_images.copy()[:lim])\n",
    "\n",
    "Y_test = test_labels[:lim]\n",
    "Y_train = training_labels[:lim]\n",
    "\n",
    "predicted_test = KnnPredict(X_train, Y_train, X_test, k=5)\n",
    "\n",
    "print(\"KNN - no preprocessing:\", sum(Y_test == predicted_test)/lim)"
   ]
  },
  {
   "cell_type": "code",
   "execution_count": null,
   "id": "3e620c1b",
   "metadata": {},
   "outputs": [],
   "source": []
  }
 ],
 "metadata": {
  "@webio": {
   "lastCommId": null,
   "lastKernelId": null
  },
  "kernelspec": {
   "display_name": "Anaconda3 - 2024.02",
   "language": "python",
   "name": "python3-2024.02"
  },
  "language_info": {
   "codemirror_mode": {
    "name": "ipython",
    "version": 3
   },
   "file_extension": ".py",
   "mimetype": "text/x-python",
   "name": "python",
   "nbconvert_exporter": "python",
   "pygments_lexer": "ipython3",
   "version": "3.11.7"
  }
 },
 "nbformat": 4,
 "nbformat_minor": 5
}
